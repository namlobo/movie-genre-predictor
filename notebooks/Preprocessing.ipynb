{
  "nbformat": 4,
  "nbformat_minor": 0,
  "metadata": {
    "colab": {
      "provenance": []
    },
    "kernelspec": {
      "name": "python3",
      "display_name": "Python 3"
    },
    "language_info": {
      "name": "python"
    }
  },
  "cells": [
    {
      "cell_type": "code",
      "execution_count": null,
      "metadata": {
        "id": "TdVHUgUL3pqs"
      },
      "outputs": [],
      "source": [
        "import os\n",
        "import pandas as pd\n",
        "import requests\n",
        "from PIL import Image\n",
        "from io import BytesIO\n",
        "from tqdm import tqdm\n",
        "import numpy as np\n"
      ]
    },
    {
      "cell_type": "code",
      "source": [
        "from google.colab import drive\n",
        "drive.mount('/content/drive')\n"
      ],
      "metadata": {
        "id": "djI0D2vcgEmE",
        "outputId": "6e495c71-d738-4065-900e-3ae10c5fd6cd",
        "colab": {
          "base_uri": "https://localhost:8080/"
        }
      },
      "execution_count": null,
      "outputs": [
        {
          "output_type": "stream",
          "name": "stdout",
          "text": [
            "Mounted at /content/drive\n"
          ]
        }
      ]
    },
    {
      "cell_type": "code",
      "source": [
        "BASE_DIR = \"/content/drive/MyDrive/movie_genre_project\"\n",
        "\n",
        "DATA_DIR = os.path.join(BASE_DIR, \"data\")\n",
        "IMG_DIR = os.path.join(DATA_DIR, \"posters\")\n",
        "\n",
        "os.makedirs(IMG_DIR, exist_ok=True)\n"
      ],
      "metadata": {
        "id": "YZ5TbIPagdMn"
      },
      "execution_count": null,
      "outputs": []
    },
    {
      "cell_type": "code",
      "source": [
        "CSV_PATH = os.path.join(DATA_DIR, \"imdb-movies-dataset.csv\")\n",
        "cleaned_csv_path = os.path.join(DATA_DIR, \"cleaned_dataset.csv\")\n"
      ],
      "metadata": {
        "id": "RyIANCu7hewt"
      },
      "execution_count": null,
      "outputs": []
    },
    {
      "cell_type": "code",
      "source": [
        "df = pd.read_csv(CSV_PATH)\n",
        "print(\"Original dataset shape:\", df.shape)\n"
      ],
      "metadata": {
        "colab": {
          "base_uri": "https://localhost:8080/"
        },
        "id": "acPq4vtfiSOf",
        "outputId": "6483c09f-0932-4272-bfce-cad2fad40541"
      },
      "execution_count": null,
      "outputs": [
        {
          "output_type": "stream",
          "name": "stdout",
          "text": [
            "Original dataset shape: (10000, 15)\n"
          ]
        }
      ]
    },
    {
      "cell_type": "code",
      "source": [
        "required_cols = ['Title', 'Genre', 'Poster']\n",
        "df = df[required_cols]\n",
        "df = df.dropna(subset=['Poster', 'Genre'])\n",
        "print(\"After dropping null links/genres:\", df.shape)\n"
      ],
      "metadata": {
        "colab": {
          "base_uri": "https://localhost:8080/"
        },
        "id": "344Jvngjjdzv",
        "outputId": "f8286d73-32fd-48bd-cf58-9bafbdb207cf"
      },
      "execution_count": null,
      "outputs": [
        {
          "output_type": "stream",
          "name": "stdout",
          "text": [
            "After dropping null links/genres: (9993, 3)\n"
          ]
        }
      ]
    },
    {
      "cell_type": "markdown",
      "source": [
        "clean genre column"
      ],
      "metadata": {
        "id": "IvwFMleFjyBS"
      }
    },
    {
      "cell_type": "code",
      "source": [
        "df['Genre'] = df['Genre'].apply(lambda x: x.split('|')[0].strip())\n",
        "\n",
        "# Normalize genre names (optional)\n",
        "df['Genre'] = df['Genre'].str.title()\n",
        "\n",
        "print(\"Sample genres:\", df['Genre'].unique()[:10])\n",
        "\n"
      ],
      "metadata": {
        "colab": {
          "base_uri": "https://localhost:8080/"
        },
        "id": "xMH5dRMwj3eE",
        "outputId": "c4f30510-530d-496a-f8bf-20b5cac8df89"
      },
      "execution_count": null,
      "outputs": [
        {
          "output_type": "stream",
          "name": "stdout",
          "text": [
            "Sample genres: ['Comedy, Drama, Romance' 'Action, Adventure, Sci-Fi'\n",
            " 'Biography, Comedy, History' 'Action, Comedy, Drama'\n",
            " 'Drama, Romance, Sport' 'Horror, Thriller' 'Action, Adventure, Thriller'\n",
            " 'Comedy, Romance' 'Action, Drama, War' 'Action, Adventure, Drama']\n"
          ]
        }
      ]
    },
    {
      "cell_type": "markdown",
      "source": [
        "Validate and download posters"
      ],
      "metadata": {
        "id": "Bad39RRsj-WZ"
      }
    },
    {
      "cell_type": "code",
      "source": [
        "def is_valid_image(url):\n",
        "    try:\n",
        "        response = requests.get(url, timeout=5)\n",
        "        if response.status_code != 200:\n",
        "            return False\n",
        "        Image.open(BytesIO(response.content))  # validate if it's an image\n",
        "        return True\n",
        "    except Exception:\n",
        "        return False\n",
        "\n",
        "# Test a few links\n",
        "print(\"Testing first poster link:\", df['Poster'].iloc[0])\n",
        "print(\"Valid:\", is_valid_image(df['Poster'].iloc[0]))\n",
        "\n",
        "# Filter valid links\n",
        "valid_links = []\n",
        "for url in tqdm(df['Poster'], desc=\"Validating poster links\"):\n",
        "    valid_links.append(is_valid_image(url))\n",
        "\n",
        "df['Valid_Link'] = valid_links\n",
        "df = df[df['Valid_Link'] == True]\n",
        "print(\"After removing invalid links:\", df.shape)\n"
      ],
      "metadata": {
        "colab": {
          "base_uri": "https://localhost:8080/"
        },
        "id": "tFxfcfKBj7-Z",
        "outputId": "49354cfc-3c7b-49eb-d022-13ace60bdc70"
      },
      "execution_count": null,
      "outputs": [
        {
          "output_type": "stream",
          "name": "stdout",
          "text": [
            "Testing first poster link: https://m.media-amazon.com/images/M/MV5BZGI4NTEwNTAtZDcwMi00MDkxLTg1OGYtNTZmMzE3ZDljNzVlXkEyXkFqcGdeQXVyMTEyMjM2NDc2._V1_UY209_CR0,0,140,209_AL_.jpg\n",
            "Valid: True\n"
          ]
        },
        {
          "output_type": "stream",
          "name": "stderr",
          "text": [
            "Validating poster links: 100%|██████████| 7075/7075 [32:54<00:00,  3.58it/s]"
          ]
        },
        {
          "output_type": "stream",
          "name": "stdout",
          "text": [
            "After removing invalid links: (7071, 4)\n"
          ]
        },
        {
          "output_type": "stream",
          "name": "stderr",
          "text": [
            "\n"
          ]
        }
      ]
    },
    {
      "cell_type": "code",
      "source": [
        "def download_and_process_image(row):\n",
        "    url = row['Poster']\n",
        "    title = row['Title']\n",
        "    genre = row['Genre']\n",
        "    filename = f\"{title.replace('/', '').replace(' ', '_')}.jpg\"\n",
        "    filepath = os.path.join(IMG_DIR, filename)\n",
        "\n",
        "    try:\n",
        "        response = requests.get(url, timeout=10)\n",
        "        img = Image.open(BytesIO(response.content)).convert('RGB')\n",
        "        img = img.resize((224, 224))  # standard size for ResNet\n",
        "        img.save(filepath)\n",
        "        return filepath\n",
        "    except Exception:\n",
        "        return None\n",
        "\n",
        "# Download all images\n",
        "paths = []\n",
        "for i, row in tqdm(df.iterrows(), total=df.shape[0], desc=\"Downloading posters\"):\n",
        "    path = download_and_process_image(row)\n",
        "    paths.append(path)\n",
        "\n",
        "df['poster_path'] = paths\n",
        "df = df.dropna(subset=['poster_path'])\n",
        "print(\"Images downloaded:\", len(df))\n",
        "\n"
      ],
      "metadata": {
        "colab": {
          "base_uri": "https://localhost:8080/"
        },
        "id": "vlibUsXItg6h",
        "outputId": "0a6c6145-a79a-4937-b4dd-ab5316f07fa9"
      },
      "execution_count": null,
      "outputs": [
        {
          "output_type": "stream",
          "name": "stderr",
          "text": [
            "Downloading posters:   3%|▎         | 179/7071 [00:31<09:05, 12.64it/s]/usr/local/lib/python3.12/dist-packages/PIL/Image.py:1047: UserWarning: Palette images with Transparency expressed in bytes should be converted to RGBA images\n",
            "  warnings.warn(\n",
            "Downloading posters: 100%|██████████| 7071/7071 [28:17<00:00,  4.16it/s]"
          ]
        },
        {
          "output_type": "stream",
          "name": "stdout",
          "text": [
            "Images downloaded: 7071\n"
          ]
        },
        {
          "output_type": "stream",
          "name": "stderr",
          "text": [
            "\n"
          ]
        }
      ]
    },
    {
      "cell_type": "code",
      "source": [
        "# Clean the Genre column BEFORE mapping\n",
        "df['Genre'] = df['Genre'].astype(str).apply(lambda x: x.split(',')[0].strip()) # Convert to string, split by comma, and take only the first (predominant) genre\n",
        "\n",
        "df['Genre'] = df['Genre'].str.title()\n",
        "\n",
        "# Verify cleaning\n",
        "print(\"Unique genres after cleaning:\", df['Genre'].unique()[:20])\n",
        "\n",
        "# Encode genres\n",
        "genres = sorted(df['Genre'].unique())\n",
        "genre_to_idx = {g: i for i, g in enumerate(genres)}\n",
        "idx_to_genre = {i: g for g, i in genre_to_idx.items()}\n",
        "\n",
        "df['genre_idx'] = df['Genre'].map(genre_to_idx)\n",
        "\n",
        "print(\"Genre mapping:\", genre_to_idx)"
      ],
      "metadata": {
        "colab": {
          "base_uri": "https://localhost:8080/"
        },
        "id": "6SzwJgreyVt9",
        "outputId": "43d74ddf-2bee-4661-84ba-668bbde76fb7"
      },
      "execution_count": null,
      "outputs": [
        {
          "output_type": "stream",
          "name": "stdout",
          "text": [
            "Unique genres after cleaning: ['Action' 'Comedy' 'Crime' 'Biography' 'Horror' 'Drama' 'Adventure'\n",
            " 'Animation' 'Fantasy' 'Thriller' 'Mystery' 'Film-Noir' 'Romance'\n",
            " 'Documentary' 'Western' 'Sci-Fi' 'War' 'Musical' 'History' 'Family']\n",
            "Genre mapping: {'Action': 0, 'Adventure': 1, 'Animation': 2, 'Biography': 3, 'Comedy': 4, 'Crime': 5, 'Documentary': 6, 'Drama': 7, 'Family': 8, 'Fantasy': 9, 'Film-Noir': 10, 'History': 11, 'Horror': 12, 'Musical': 13, 'Mystery': 14, 'Romance': 15, 'Sci-Fi': 16, 'Thriller': 17, 'War': 18, 'Western': 19}\n"
          ]
        }
      ]
    },
    {
      "cell_type": "code",
      "source": [
        "df[['Title', 'Genre', 'genre_idx', 'poster_path']].to_csv(cleaned_csv_path, index=False)\n",
        "print(\"✅ Cleaned dataset saved to:\", cleaned_csv_path)\n",
        "print(\"Final shape:\", df.shape)"
      ],
      "metadata": {
        "colab": {
          "base_uri": "https://localhost:8080/"
        },
        "id": "uwrZeXLFyYIc",
        "outputId": "0ddee31f-b96d-4d83-bdba-05876766e360"
      },
      "execution_count": null,
      "outputs": [
        {
          "output_type": "stream",
          "name": "stdout",
          "text": [
            "✅ Cleaned dataset saved to: /content/drive/MyDrive/movie_genre_project/data/cleaned_dataset.csv\n",
            "Final shape: (7071, 6)\n"
          ]
        }
      ]
    }
  ]
}