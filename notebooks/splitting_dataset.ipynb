{
  "nbformat": 4,
  "nbformat_minor": 0,
  "metadata": {
    "colab": {
      "provenance": []
    },
    "kernelspec": {
      "name": "python3",
      "display_name": "Python 3"
    },
    "language_info": {
      "name": "python"
    }
  },
  "cells": [
    {
      "cell_type": "code",
      "execution_count": null,
      "metadata": {
        "colab": {
          "base_uri": "https://localhost:8080/"
        },
        "id": "pUz1C0iaAiOE",
        "outputId": "b317ee34-6b81-47b2-9695-823ae33a00a6"
      },
      "outputs": [
        {
          "output_type": "stream",
          "name": "stdout",
          "text": [
            "Mounted at /content/drive\n"
          ]
        }
      ],
      "source": [
        "from google.colab import drive\n",
        "drive.mount('/content/drive')"
      ]
    },
    {
      "cell_type": "code",
      "source": [
        "import os\n",
        "import pandas as pd\n",
        "import requests\n",
        "from PIL import Image\n",
        "from io import BytesIO\n",
        "from tqdm import tqdm\n",
        "import numpy as np"
      ],
      "metadata": {
        "id": "WdspqOsRBbnD"
      },
      "execution_count": null,
      "outputs": []
    },
    {
      "cell_type": "code",
      "source": [
        "BASE_DIR = '/content/drive/MyDrive/movie_genre_project'\n",
        "DATA_DIR = os.path.join(BASE_DIR, 'data')\n",
        "IMG_DIR = os.path.join(DATA_DIR, 'posters')\n",
        "CSV_PATH = os.path.join(DATA_DIR, 'cleaned_dataset.csv')"
      ],
      "metadata": {
        "id": "wI1UqDfrDvQ9"
      },
      "execution_count": null,
      "outputs": []
    },
    {
      "cell_type": "code",
      "source": [
        "from sklearn.model_selection import train_test_split\n",
        "\n",
        "# Assuming CSV_PATH and BASE_DIR are already defined and mounted to Google Drive\n",
        "df = pd.read_csv(CSV_PATH)\n",
        "\n",
        "train_df, temp_df = train_test_split(df, test_size=0.2, random_state=42)\n",
        "val_df, test_df = train_test_split(temp_df, test_size=0.5, random_state=42)\n",
        "\n",
        "# Define directory to save splits\n",
        "split_save_dir = os.path.join(BASE_DIR, 'splits')\n",
        "os.makedirs(split_save_dir, exist_ok=True)\n",
        "\n",
        "# Save CSVs\n",
        "train_df.to_csv(os.path.join(split_save_dir, 'train_dataset.csv'), index=False)\n",
        "val_df.to_csv(os.path.join(split_save_dir, 'val_dataset.csv'), index=False)\n",
        "test_df.to_csv(os.path.join(split_save_dir, 'test_dataset.csv'), index=False)\n",
        "\n",
        "print(f\"Splits saved to {split_save_dir}\")\n"
      ],
      "metadata": {
        "colab": {
          "base_uri": "https://localhost:8080/"
        },
        "id": "aC2r7hkCEIv1",
        "outputId": "535f891b-1b46-4dd4-dabb-08434d98fd59"
      },
      "execution_count": null,
      "outputs": [
        {
          "output_type": "stream",
          "name": "stdout",
          "text": [
            "Splits saved to /content/drive/MyDrive/movie_genre_project/splits\n"
          ]
        }
      ]
    },
    {
      "cell_type": "code",
      "source": [],
      "metadata": {
        "id": "Do_da2WPMRX9"
      },
      "execution_count": null,
      "outputs": []
    },
    {
      "cell_type": "code",
      "source": [],
      "metadata": {
        "id": "_vCUtFqMNivH"
      },
      "execution_count": null,
      "outputs": []
    }
  ]
}